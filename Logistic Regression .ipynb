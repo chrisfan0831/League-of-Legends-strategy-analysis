{
 "cells": [
  {
   "cell_type": "code",
   "execution_count": 1,
   "metadata": {
    "ExecuteTime": {
     "end_time": "2020-11-20T17:48:02.077115Z",
     "start_time": "2020-11-20T17:48:02.070225Z"
    },
    "hide_input": false
   },
   "outputs": [
    {
     "name": "stderr",
     "output_type": "stream",
     "text": [
      "<frozen importlib._bootstrap>:219: RuntimeWarning: numpy.ufunc size changed, may indicate binary incompatibility. Expected 192 from C header, got 216 from PyObject\n",
      "<frozen importlib._bootstrap>:219: RuntimeWarning: numpy.ufunc size changed, may indicate binary incompatibility. Expected 192 from C header, got 216 from PyObject\n",
      "<frozen importlib._bootstrap>:219: RuntimeWarning: numpy.ufunc size changed, may indicate binary incompatibility. Expected 192 from C header, got 216 from PyObject\n"
     ]
    }
   ],
   "source": [
    "import pandas as pd\n",
    "import numpy as np\n",
    "from sklearn import preprocessing\n",
    "import matplotlib.pyplot as plt \n",
    "\n",
    "from sklearn.linear_model import LogisticRegression\n",
    "from sklearn.model_selection import train_test_split\n",
    "import seaborn as sns\n",
    "\n",
    "from sklearn import metrics\n",
    "\n",
    "from sklearn.metrics import log_loss\n",
    "from sklearn.model_selection import cross_val_score"
   ]
  },
  {
   "cell_type": "markdown",
   "metadata": {},
   "source": [
    " "
   ]
  },
  {
   "cell_type": "code",
   "execution_count": 2,
   "metadata": {
    "ExecuteTime": {
     "end_time": "2020-11-20T17:35:40.598311Z",
     "start_time": "2020-11-20T17:35:40.368918Z"
    }
   },
   "outputs": [
    {
     "data": {
      "text/plain": [
       "(65896, 24)"
      ]
     },
     "execution_count": 2,
     "metadata": {},
     "output_type": "execute_result"
    }
   ],
   "source": [
    "#full-game data\n",
    "data = pd.read_csv(\"Full Game/GrandMaster_Ranked_Games.csv\", usecols=range(2, 26))\n",
    "data.shape"
   ]
  },
  {
   "cell_type": "code",
   "execution_count": 3,
   "metadata": {
    "ExecuteTime": {
     "end_time": "2020-11-20T17:35:43.013638Z",
     "start_time": "2020-11-20T17:35:42.991835Z"
    }
   },
   "outputs": [
    {
     "data": {
      "text/html": [
       "<div>\n",
       "<style scoped>\n",
       "    .dataframe tbody tr th:only-of-type {\n",
       "        vertical-align: middle;\n",
       "    }\n",
       "\n",
       "    .dataframe tbody tr th {\n",
       "        vertical-align: top;\n",
       "    }\n",
       "\n",
       "    .dataframe thead th {\n",
       "        text-align: right;\n",
       "    }\n",
       "</style>\n",
       "<table border=\"1\" class=\"dataframe\">\n",
       "  <thead>\n",
       "    <tr style=\"text-align: right;\">\n",
       "      <th></th>\n",
       "      <th>blueWins</th>\n",
       "      <th>blueFirstBlood</th>\n",
       "      <th>blueFirstTower</th>\n",
       "      <th>blueFirstBaron</th>\n",
       "      <th>blueFirstDragon</th>\n",
       "      <th>blueFirstInhibitor</th>\n",
       "      <th>blueDragonKills</th>\n",
       "      <th>blueBaronKills</th>\n",
       "      <th>blueTowerKills</th>\n",
       "      <th>blueInhibitorKills</th>\n",
       "      <th>...</th>\n",
       "      <th>blueAssist</th>\n",
       "      <th>blueChampionDamageDealt</th>\n",
       "      <th>blueTotalGold</th>\n",
       "      <th>blueTotalMinionKills</th>\n",
       "      <th>blueTotalLevel</th>\n",
       "      <th>blueAvgLevel</th>\n",
       "      <th>blueJungleMinionKills</th>\n",
       "      <th>blueKillingSpree</th>\n",
       "      <th>blueTotalHeal</th>\n",
       "      <th>blueObjectDamageDealt</th>\n",
       "    </tr>\n",
       "  </thead>\n",
       "  <tbody>\n",
       "    <tr>\n",
       "      <th>0</th>\n",
       "      <td>0</td>\n",
       "      <td>0</td>\n",
       "      <td>0</td>\n",
       "      <td>1</td>\n",
       "      <td>1</td>\n",
       "      <td>0</td>\n",
       "      <td>1</td>\n",
       "      <td>1</td>\n",
       "      <td>2</td>\n",
       "      <td>0</td>\n",
       "      <td>...</td>\n",
       "      <td>45</td>\n",
       "      <td>101607</td>\n",
       "      <td>63447</td>\n",
       "      <td>774</td>\n",
       "      <td>80</td>\n",
       "      <td>16.0</td>\n",
       "      <td>226</td>\n",
       "      <td>3</td>\n",
       "      <td>24718</td>\n",
       "      <td>31019</td>\n",
       "    </tr>\n",
       "    <tr>\n",
       "      <th>1</th>\n",
       "      <td>0</td>\n",
       "      <td>0</td>\n",
       "      <td>1</td>\n",
       "      <td>0</td>\n",
       "      <td>0</td>\n",
       "      <td>0</td>\n",
       "      <td>0</td>\n",
       "      <td>0</td>\n",
       "      <td>2</td>\n",
       "      <td>0</td>\n",
       "      <td>...</td>\n",
       "      <td>30</td>\n",
       "      <td>70270</td>\n",
       "      <td>47107</td>\n",
       "      <td>601</td>\n",
       "      <td>65</td>\n",
       "      <td>13.0</td>\n",
       "      <td>136</td>\n",
       "      <td>5</td>\n",
       "      <td>20503</td>\n",
       "      <td>31788</td>\n",
       "    </tr>\n",
       "    <tr>\n",
       "      <th>2</th>\n",
       "      <td>1</td>\n",
       "      <td>1</td>\n",
       "      <td>1</td>\n",
       "      <td>1</td>\n",
       "      <td>0</td>\n",
       "      <td>1</td>\n",
       "      <td>2</td>\n",
       "      <td>1</td>\n",
       "      <td>10</td>\n",
       "      <td>2</td>\n",
       "      <td>...</td>\n",
       "      <td>88</td>\n",
       "      <td>102449</td>\n",
       "      <td>59163</td>\n",
       "      <td>613</td>\n",
       "      <td>71</td>\n",
       "      <td>14.2</td>\n",
       "      <td>157</td>\n",
       "      <td>7</td>\n",
       "      <td>28612</td>\n",
       "      <td>67404</td>\n",
       "    </tr>\n",
       "    <tr>\n",
       "      <th>3</th>\n",
       "      <td>1</td>\n",
       "      <td>0</td>\n",
       "      <td>1</td>\n",
       "      <td>0</td>\n",
       "      <td>1</td>\n",
       "      <td>0</td>\n",
       "      <td>1</td>\n",
       "      <td>0</td>\n",
       "      <td>4</td>\n",
       "      <td>0</td>\n",
       "      <td>...</td>\n",
       "      <td>34</td>\n",
       "      <td>56652</td>\n",
       "      <td>39014</td>\n",
       "      <td>486</td>\n",
       "      <td>57</td>\n",
       "      <td>11.4</td>\n",
       "      <td>115</td>\n",
       "      <td>5</td>\n",
       "      <td>17630</td>\n",
       "      <td>37483</td>\n",
       "    </tr>\n",
       "    <tr>\n",
       "      <th>4</th>\n",
       "      <td>1</td>\n",
       "      <td>0</td>\n",
       "      <td>0</td>\n",
       "      <td>0</td>\n",
       "      <td>1</td>\n",
       "      <td>1</td>\n",
       "      <td>3</td>\n",
       "      <td>0</td>\n",
       "      <td>7</td>\n",
       "      <td>1</td>\n",
       "      <td>...</td>\n",
       "      <td>38</td>\n",
       "      <td>57342</td>\n",
       "      <td>42933</td>\n",
       "      <td>509</td>\n",
       "      <td>61</td>\n",
       "      <td>12.2</td>\n",
       "      <td>129</td>\n",
       "      <td>4</td>\n",
       "      <td>13040</td>\n",
       "      <td>48691</td>\n",
       "    </tr>\n",
       "  </tbody>\n",
       "</table>\n",
       "<p>5 rows × 24 columns</p>\n",
       "</div>"
      ],
      "text/plain": [
       "   blueWins  blueFirstBlood  blueFirstTower  blueFirstBaron  blueFirstDragon  \\\n",
       "0         0               0               0               1                1   \n",
       "1         0               0               1               0                0   \n",
       "2         1               1               1               1                0   \n",
       "3         1               0               1               0                1   \n",
       "4         1               0               0               0                1   \n",
       "\n",
       "   blueFirstInhibitor  blueDragonKills  blueBaronKills  blueTowerKills  \\\n",
       "0                   0                1               1               2   \n",
       "1                   0                0               0               2   \n",
       "2                   1                2               1              10   \n",
       "3                   0                1               0               4   \n",
       "4                   1                3               0               7   \n",
       "\n",
       "   blueInhibitorKills  ...  blueAssist  blueChampionDamageDealt  \\\n",
       "0                   0  ...          45                   101607   \n",
       "1                   0  ...          30                    70270   \n",
       "2                   2  ...          88                   102449   \n",
       "3                   0  ...          34                    56652   \n",
       "4                   1  ...          38                    57342   \n",
       "\n",
       "   blueTotalGold  blueTotalMinionKills  blueTotalLevel  blueAvgLevel  \\\n",
       "0          63447                   774              80          16.0   \n",
       "1          47107                   601              65          13.0   \n",
       "2          59163                   613              71          14.2   \n",
       "3          39014                   486              57          11.4   \n",
       "4          42933                   509              61          12.2   \n",
       "\n",
       "   blueJungleMinionKills  blueKillingSpree  blueTotalHeal  \\\n",
       "0                    226                 3          24718   \n",
       "1                    136                 5          20503   \n",
       "2                    157                 7          28612   \n",
       "3                    115                 5          17630   \n",
       "4                    129                 4          13040   \n",
       "\n",
       "   blueObjectDamageDealt  \n",
       "0                  31019  \n",
       "1                  31788  \n",
       "2                  67404  \n",
       "3                  37483  \n",
       "4                  48691  \n",
       "\n",
       "[5 rows x 24 columns]"
      ]
     },
     "execution_count": 3,
     "metadata": {},
     "output_type": "execute_result"
    }
   ],
   "source": [
    "data.head()"
   ]
  },
  {
   "cell_type": "code",
   "execution_count": null,
   "metadata": {},
   "outputs": [],
   "source": []
  },
  {
   "cell_type": "markdown",
   "metadata": {},
   "source": [
    "# Full Game"
   ]
  },
  {
   "cell_type": "markdown",
   "metadata": {},
   "source": [
    "## Full Game all features"
   ]
  },
  {
   "cell_type": "code",
   "execution_count": 57,
   "metadata": {},
   "outputs": [],
   "source": [
    "x_train, x_test, y_train, y_test = train_test_split(data.iloc[:,1:25], data.iloc[:,0], test_size = 0.3, random_state=0)"
   ]
  },
  {
   "cell_type": "code",
   "execution_count": 58,
   "metadata": {},
   "outputs": [
    {
     "name": "stdout",
     "output_type": "stream",
     "text": [
      "0.9497698416713035\n"
     ]
    },
    {
     "name": "stderr",
     "output_type": "stream",
     "text": [
      "/Users/Versace/opt/anaconda3/lib/python3.8/site-packages/sklearn/linear_model/_logistic.py:762: ConvergenceWarning: lbfgs failed to converge (status=1):\n",
      "STOP: TOTAL NO. of ITERATIONS REACHED LIMIT.\n",
      "\n",
      "Increase the number of iterations (max_iter) or scale the data as shown in:\n",
      "    https://scikit-learn.org/stable/modules/preprocessing.html\n",
      "Please also refer to the documentation for alternative solver options:\n",
      "    https://scikit-learn.org/stable/modules/linear_model.html#logistic-regression\n",
      "  n_iter_i = _check_optimize_result(\n"
     ]
    }
   ],
   "source": [
    "#LR model\n",
    "LR = LogisticRegression(max_iter=500)\n",
    "LR.fit(x_train, y_train)\n",
    "#make prediction\n",
    "prediction = LR.predict(x_test)\n",
    "accuracy = LR.score(x_test, y_test)\n",
    "print(accuracy)"
   ]
  },
  {
   "cell_type": "code",
   "execution_count": 59,
   "metadata": {},
   "outputs": [
    {
     "name": "stdout",
     "output_type": "stream",
     "text": [
      "0.13870168978416278\n"
     ]
    }
   ],
   "source": [
    "prob = LR.predict_proba(x_test) #probabilities of lable 1 for each prediction\n",
    "loss1 = log_loss(y_test, prob) #loss of the prediction\n",
    "print(loss1)"
   ]
  },
  {
   "cell_type": "code",
   "execution_count": 61,
   "metadata": {},
   "outputs": [
    {
     "data": {
      "text/plain": [
       "Text(0, 0.5, 'negative')"
      ]
     },
     "execution_count": 61,
     "metadata": {},
     "output_type": "execute_result"
    },
    {
     "data": {
      "image/png": "[encoded data removed]",
      "text/plain": [
       "<Figure size 432x288 with 1 Axes>"
      ]
     },
     "metadata": {
      "needs_background": "light"
     },
     "output_type": "display_data"
    }
   ],
   "source": [
    "plt.scatter(prob[0:300,0], prob[0:300,1], marker='.')\n",
    "plt.title(\"Lable Probability\", fontsize = 15)\n",
    "plt.xlabel('positive', fontsize = 15)\n",
    "plt.ylabel('negative', fontsize = 15)"
   ]
  },
  {
   "cell_type": "code",
   "execution_count": 67,
   "metadata": {},
   "outputs": [
    {
     "name": "stdout",
     "output_type": "stream",
     "text": [
      "Certainty Rate: 0.8419242247963984\n"
     ]
    }
   ],
   "source": [
    "count = 0\n",
    "for i in range(len(prob)):\n",
    "    if (prob[i,0] > 0.9) or (prob [i,1] > 0.9):\n",
    "        count+=1\n",
    "certainty = count/len(prob)\n",
    "print('Certainty Rate:', certainty)"
   ]
  },
  {
   "cell_type": "code",
   "execution_count": 69,
   "metadata": {
    "scrolled": true
   },
   "outputs": [
    {
     "data": {
      "image/png": "[encoded data removed]",
      "text/plain": [
       "<Figure size 504x504 with 2 Axes>"
      ]
     },
     "metadata": {
      "needs_background": "light"
     },
     "output_type": "display_data"
    }
   ],
   "source": [
    "cm = metrics.confusion_matrix(y_test, prediction)\n",
    "plt.figure(figsize=(7,7))\n",
    "sns.heatmap(cm, annot=True, fmt=\".3f\", linewidths=.5, square = True, cmap = 'Blues_r');\n",
    "plt.ylabel('Actual label', fontsize=15);\n",
    "plt.xlabel('Predicted label', fontsize=15);\n",
    "all_sample_title = 'Accuracy: {0}'.format(accuracy)\n",
    "plt.title(all_sample_title, size = 15);"
   ]
  },
  {
   "cell_type": "markdown",
   "metadata": {},
   "source": [
    "## Full Game map control  "
   ]
  },
  {
   "cell_type": "code",
   "execution_count": 70,
   "metadata": {
    "ExecuteTime": {
     "end_time": "2020-11-20T17:47:26.106024Z",
     "start_time": "2020-11-20T17:47:26.076196Z"
    }
   },
   "outputs": [],
   "source": [
    "#0.7 train, 0.3 test\n",
    "x_train, x_test, y_train, y_test = train_test_split(data.iloc[:,2:12], data.iloc[:,0], test_size = 0.3, random_state=0)"
   ]
  },
  {
   "cell_type": "code",
   "execution_count": 71,
   "metadata": {
    "ExecuteTime": {
     "end_time": "2020-11-20T17:47:26.455711Z",
     "start_time": "2020-11-20T17:47:26.447660Z"
    },
    "code_folding": []
   },
   "outputs": [],
   "source": [
    "#LR model\n",
    "LR2 = LogisticRegression(max_iter=500)\n",
    "#train the model\n",
    "LR2.fit(x_train, y_train)\n",
    "#make prediction\n",
    "prediction2 = LR2.predict(x_test)"
   ]
  },
  {
   "cell_type": "code",
   "execution_count": 72,
   "metadata": {
    "ExecuteTime": {
     "end_time": "2020-11-20T17:47:29.277362Z",
     "start_time": "2020-11-20T17:47:29.263427Z"
    }
   },
   "outputs": [
    {
     "name": "stdout",
     "output_type": "stream",
     "text": [
      "0.8963528757145025\n"
     ]
    }
   ],
   "source": [
    "#accuracy\n",
    "accuracy2 = LR2.score(x_test, y_test)\n",
    "print(accuracy2)"
   ]
  },
  {
   "cell_type": "code",
   "execution_count": 73,
   "metadata": {},
   "outputs": [
    {
     "name": "stdout",
     "output_type": "stream",
     "text": [
      "0.2570995856901654\n"
     ]
    }
   ],
   "source": [
    "prob = LR2.predict_proba(x_test) #probabilities of lable 1 for each prediction\n",
    "loss2 = log_loss(y_test, prob) #loss of the prediction\n",
    "print(loss2)"
   ]
  },
  {
   "cell_type": "code",
   "execution_count": 75,
   "metadata": {},
   "outputs": [
    {
     "data": {
      "text/plain": [
       "Text(0, 0.5, 'negative')"
      ]
     },
     "execution_count": 75,
     "metadata": {},
     "output_type": "execute_result"
    },
    {
     "data": {
      "image/png": "[encoded data removed]",
      "text/plain": [
       "<Figure size 432x288 with 1 Axes>"
      ]
     },
     "metadata": {
      "needs_background": "light"
     },
     "output_type": "display_data"
    }
   ],
   "source": [
    "plt.scatter(prob[0:300,0], prob[0:300,1], marker='.')\n",
    "plt.title(\"Lable Probability\", fontsize = 15)\n",
    "plt.xlabel('positive', fontsize = 15)\n",
    "plt.ylabel('negative', fontsize = 15)"
   ]
  },
  {
   "cell_type": "code",
   "execution_count": 45,
   "metadata": {
    "ExecuteTime": {
     "end_time": "2020-11-20T17:55:19.900544Z",
     "start_time": "2020-11-20T17:55:19.356612Z"
    }
   },
   "outputs": [
    {
     "data": {
      "image/png": "[encoded data removed]",
      "text/plain": [
       "<Figure size 504x504 with 2 Axes>"
      ]
     },
     "metadata": {
      "needs_background": "light"
     },
     "output_type": "display_data"
    }
   ],
   "source": [
    "#confusion matrix of the LR model\n",
    "cm = metrics.confusion_matrix(y_test, prediction2)\n",
    "plt.figure(figsize=(7,7))\n",
    "sns.heatmap(cm, annot=True, fmt=\".3f\", linewidths=.5, square = True, cmap = 'Blues_r');\n",
    "plt.ylabel('Actual label', fontsize=15);\n",
    "plt.xlabel('Predicted label', fontsize=15);\n",
    "all_sample_title = 'Accuracy: {0}'.format(accuracy2)\n",
    "plt.title(all_sample_title, size = 15);"
   ]
  },
  {
   "cell_type": "markdown",
   "metadata": {},
   "source": [
    "## Full Game team fighting & upgrowth "
   ]
  },
  {
   "cell_type": "code",
   "execution_count": 76,
   "metadata": {},
   "outputs": [],
   "source": [
    "x_train, x_test, y_train, y_test = train_test_split(data.iloc[:,15:19], data.iloc[:,0], test_size = 0.3, random_state=0)"
   ]
  },
  {
   "cell_type": "code",
   "execution_count": 77,
   "metadata": {},
   "outputs": [
    {
     "name": "stdout",
     "output_type": "stream",
     "text": [
      "0.7191562547422733\n"
     ]
    }
   ],
   "source": [
    "LR3 = LogisticRegression()\n",
    "LR3.fit(x_train, y_train)\n",
    "prediction3 = LR3.predict(x_test)\n",
    "accuracy3 = LR3.score(x_test, y_test)\n",
    "print(accuracy3)"
   ]
  },
  {
   "cell_type": "code",
   "execution_count": 78,
   "metadata": {},
   "outputs": [
    {
     "name": "stdout",
     "output_type": "stream",
     "text": [
      "0.5889070114483469\n"
     ]
    }
   ],
   "source": [
    "prob = LR3.predict_proba(x_test) #probabilities of lable 1 for each prediction\n",
    "loss3 = log_loss(y_test, prob) #loss of the prediction\n",
    "print(loss3)"
   ]
  },
  {
   "cell_type": "code",
   "execution_count": 80,
   "metadata": {},
   "outputs": [
    {
     "data": {
      "text/plain": [
       "Text(0, 0.5, 'negative')"
      ]
     },
     "execution_count": 80,
     "metadata": {},
     "output_type": "execute_result"
    },
    {
     "data": {
      "image/png": "[encoded data removed]",
      "text/plain": [
       "<Figure size 432x288 with 1 Axes>"
      ]
     },
     "metadata": {
      "needs_background": "light"
     },
     "output_type": "display_data"
    }
   ],
   "source": [
    "plt.scatter(prob[0:300,0], prob[0:300,1], marker='.')\n",
    "plt.title(\"Lable Probability\", fontsize = 15)\n",
    "plt.xlabel('positive', fontsize = 15)\n",
    "plt.ylabel('negative', fontsize = 15)"
   ]
  },
  {
   "cell_type": "code",
   "execution_count": 50,
   "metadata": {},
   "outputs": [
    {
     "data": {
      "image/png": "[encoded data removed]",
      "text/plain": [
       "<Figure size 504x504 with 2 Axes>"
      ]
     },
     "metadata": {
      "needs_background": "light"
     },
     "output_type": "display_data"
    }
   ],
   "source": [
    "cm = metrics.confusion_matrix(y_test, prediction3)\n",
    "plt.figure(figsize=(7,7))\n",
    "sns.heatmap(cm, annot=True, fmt=\".3f\", linewidths=.5, square = True, cmap = 'Blues_r');\n",
    "plt.ylabel('Actual label', fontsize=15);\n",
    "plt.xlabel('Predicted label', fontsize=15);\n",
    "all_sample_title = 'Accuracy: {0}'.format(accuracy3)\n",
    "plt.title(all_sample_title, size = 15);"
   ]
  },
  {
   "cell_type": "code",
   "execution_count": 86,
   "metadata": {},
   "outputs": [
    {
     "data": {
      "text/plain": [
       "Text(0, 0.5, 'accuracy')"
      ]
     },
     "execution_count": 86,
     "metadata": {},
     "output_type": "execute_result"
    },
    {
     "data": {
      "image/png": "[encoded data removed]",
      "text/plain": [
       "<Figure size 432x288 with 1 Axes>"
      ]
     },
     "metadata": {
      "needs_background": "light"
     },
     "output_type": "display_data"
    }
   ],
   "source": [
    "x = [1,2]\n",
    "plt.bar(x, height=[accuracy2, accuracy3])\n",
    "plt.xticks(x, ['map resources','team fight'], fontsize = 15)\n",
    "plt.ylabel('accuracy', fontsize = 15)"
   ]
  },
  {
   "cell_type": "code",
   "execution_count": 82,
   "metadata": {},
   "outputs": [
    {
     "data": {
      "text/plain": [
       "Text(0, 0.5, 'loss')"
      ]
     },
     "execution_count": 82,
     "metadata": {},
     "output_type": "execute_result"
    },
    {
     "data": {
      "image/png": "[encoded data removed]",
      "text/plain": [
       "<Figure size 432x288 with 1 Axes>"
      ]
     },
     "metadata": {
      "needs_background": "light"
     },
     "output_type": "display_data"
    }
   ],
   "source": [
    "x = [1,2]\n",
    "plt.bar(x, height=[loss2, loss3])\n",
    "plt.xticks(x, ['map resources','team fight'], fontsize = 15)\n",
    "plt.ylabel('loss', fontsize = 15)"
   ]
  },
  {
   "cell_type": "code",
   "execution_count": 97,
   "metadata": {},
   "outputs": [],
   "source": [
    "df = data[['blueWins', 'blueTowerKills', 'blueChampionDamageDealt', 'blueKills']]\n",
    "win_towers=0\n",
    "lose_towers = 0\n",
    "win_damage=0\n",
    "lose_damage = 0\n",
    "win_kills = 0\n",
    "lose_kills = 0\n",
    "wins = 0\n",
    "loses = 0\n",
    "for i in range(df.shape[0]):\n",
    "    if df.iloc[i,0] == 1:\n",
    "        wins += 1\n",
    "        win_towers += df.iloc[i,1]\n",
    "        win_damage += df.iloc[i,2]\n",
    "        win_kills += df.iloc[i,3]\n",
    "    else:\n",
    "        loses += 1\n",
    "        lose_towers += df.iloc[i,1]\n",
    "        lose_damage += df.iloc[i,2]\n",
    "        lose_kills += df.iloc[i,3]"
   ]
  },
  {
   "cell_type": "code",
   "execution_count": 99,
   "metadata": {},
   "outputs": [],
   "source": [
    "win_towers_mean = win_towers/wins\n",
    "lose_towers_mean = lose_towers/loses\n",
    "win_damage_mean = win_damage/wins\n",
    "lose_damage_mean = lose_damage/loses\n",
    "win_kills_mean = win_kills/wins\n",
    "lose_kills_mean = lose_kills/loses"
   ]
  },
  {
   "cell_type": "code",
   "execution_count": 101,
   "metadata": {},
   "outputs": [
    {
     "data": {
      "text/plain": [
       "Text(0, 0.5, 'tower kills')"
      ]
     },
     "execution_count": 101,
     "metadata": {},
     "output_type": "execute_result"
    },
    {
     "data": {
      "image/png": "[encoded data removed]",
      "text/plain": [
       "<Figure size 432x288 with 1 Axes>"
      ]
     },
     "metadata": {
      "needs_background": "light"
     },
     "output_type": "display_data"
    }
   ],
   "source": [
    "x = [1,2]\n",
    "plt.bar(x, height=[win_towers_mean, lose_towers_mean])\n",
    "plt.xticks(x, ['win','lose'], fontsize = 15)\n",
    "plt.ylabel('tower kills', fontsize = 15)"
   ]
  },
  {
   "cell_type": "code",
   "execution_count": 102,
   "metadata": {},
   "outputs": [
    {
     "data": {
      "text/plain": [
       "Text(0, 0.5, 'Champion kills')"
      ]
     },
     "execution_count": 102,
     "metadata": {},
     "output_type": "execute_result"
    },
    {
     "data": {
      "image/png": "[encoded data removed]",
      "text/plain": [
       "<Figure size 432x288 with 1 Axes>"
      ]
     },
     "metadata": {
      "needs_background": "light"
     },
     "output_type": "display_data"
    }
   ],
   "source": [
    "x = [1,2]\n",
    "plt.bar(x, height=[win_kills_mean, lose_kills_mean])\n",
    "plt.xticks(x, ['win','lose'], fontsize = 15)\n",
    "plt.ylabel('Champion kills', fontsize = 15)"
   ]
  },
  {
   "cell_type": "code",
   "execution_count": 103,
   "metadata": {},
   "outputs": [
    {
     "data": {
      "text/plain": [
       "Text(0, 0.5, 'damage dealt')"
      ]
     },
     "execution_count": 103,
     "metadata": {},
     "output_type": "execute_result"
    },
    {
     "data": {
      "image/png": "[encoded data removed]",
      "text/plain": [
       "<Figure size 432x288 with 1 Axes>"
      ]
     },
     "metadata": {
      "needs_background": "light"
     },
     "output_type": "display_data"
    }
   ],
   "source": [
    "x = [1,2]\n",
    "plt.bar(x, height=[win_damage_mean, lose_damage_mean])\n",
    "plt.xticks(x, ['win','lose'], fontsize = 15)\n",
    "plt.ylabel('damage dealt', fontsize = 15)"
   ]
  },
  {
   "cell_type": "markdown",
   "metadata": {},
   "source": [
    "# Early Game"
   ]
  },
  {
   "cell_type": "markdown",
   "metadata": {},
   "source": [
    "## Early Game all features"
   ]
  },
  {
   "cell_type": "code",
   "execution_count": 104,
   "metadata": {
    "ExecuteTime": {
     "end_time": "2020-11-20T17:55:58.952734Z",
     "start_time": "2020-11-20T17:55:58.868115Z"
    }
   },
   "outputs": [
    {
     "data": {
      "text/html": [
       "<div>\n",
       "<style scoped>\n",
       "    .dataframe tbody tr th:only-of-type {\n",
       "        vertical-align: middle;\n",
       "    }\n",
       "\n",
       "    .dataframe tbody tr th {\n",
       "        vertical-align: top;\n",
       "    }\n",
       "\n",
       "    .dataframe thead th {\n",
       "        text-align: right;\n",
       "    }\n",
       "</style>\n",
       "<table border=\"1\" class=\"dataframe\">\n",
       "  <thead>\n",
       "    <tr style=\"text-align: right;\">\n",
       "      <th></th>\n",
       "      <th>blueWins</th>\n",
       "      <th>blueWardsPlaced</th>\n",
       "      <th>blueWardsDestroyed</th>\n",
       "      <th>blueFirstBlood</th>\n",
       "      <th>blueKills</th>\n",
       "      <th>blueDeaths</th>\n",
       "      <th>blueAssists</th>\n",
       "      <th>blueEliteMonsters</th>\n",
       "      <th>blueDragons</th>\n",
       "      <th>blueHeralds</th>\n",
       "      <th>blueTowersDestroyed</th>\n",
       "      <th>blueTotalGold</th>\n",
       "      <th>blueAvgLevel</th>\n",
       "      <th>blueTotalExperience</th>\n",
       "      <th>blueTotalMinionsKilled</th>\n",
       "      <th>blueTotalJungleMinionsKilled</th>\n",
       "      <th>blueGoldDiff</th>\n",
       "      <th>blueExperienceDiff</th>\n",
       "      <th>blueCSPerMin</th>\n",
       "      <th>blueGoldPerMin</th>\n",
       "    </tr>\n",
       "  </thead>\n",
       "  <tbody>\n",
       "    <tr>\n",
       "      <th>0</th>\n",
       "      <td>0</td>\n",
       "      <td>28</td>\n",
       "      <td>2</td>\n",
       "      <td>1</td>\n",
       "      <td>9</td>\n",
       "      <td>6</td>\n",
       "      <td>11</td>\n",
       "      <td>0</td>\n",
       "      <td>0</td>\n",
       "      <td>0</td>\n",
       "      <td>0</td>\n",
       "      <td>17210</td>\n",
       "      <td>6.6</td>\n",
       "      <td>17039</td>\n",
       "      <td>195</td>\n",
       "      <td>36</td>\n",
       "      <td>643</td>\n",
       "      <td>-8</td>\n",
       "      <td>19.5</td>\n",
       "      <td>1721.0</td>\n",
       "    </tr>\n",
       "    <tr>\n",
       "      <th>1</th>\n",
       "      <td>0</td>\n",
       "      <td>12</td>\n",
       "      <td>1</td>\n",
       "      <td>0</td>\n",
       "      <td>5</td>\n",
       "      <td>5</td>\n",
       "      <td>5</td>\n",
       "      <td>0</td>\n",
       "      <td>0</td>\n",
       "      <td>0</td>\n",
       "      <td>0</td>\n",
       "      <td>14712</td>\n",
       "      <td>6.6</td>\n",
       "      <td>16265</td>\n",
       "      <td>174</td>\n",
       "      <td>43</td>\n",
       "      <td>-2908</td>\n",
       "      <td>-1173</td>\n",
       "      <td>17.4</td>\n",
       "      <td>1471.2</td>\n",
       "    </tr>\n",
       "    <tr>\n",
       "      <th>2</th>\n",
       "      <td>0</td>\n",
       "      <td>15</td>\n",
       "      <td>0</td>\n",
       "      <td>0</td>\n",
       "      <td>7</td>\n",
       "      <td>11</td>\n",
       "      <td>4</td>\n",
       "      <td>1</td>\n",
       "      <td>1</td>\n",
       "      <td>0</td>\n",
       "      <td>0</td>\n",
       "      <td>16113</td>\n",
       "      <td>6.4</td>\n",
       "      <td>16221</td>\n",
       "      <td>186</td>\n",
       "      <td>46</td>\n",
       "      <td>-1172</td>\n",
       "      <td>-1033</td>\n",
       "      <td>18.6</td>\n",
       "      <td>1611.3</td>\n",
       "    </tr>\n",
       "    <tr>\n",
       "      <th>3</th>\n",
       "      <td>0</td>\n",
       "      <td>43</td>\n",
       "      <td>1</td>\n",
       "      <td>0</td>\n",
       "      <td>4</td>\n",
       "      <td>5</td>\n",
       "      <td>5</td>\n",
       "      <td>1</td>\n",
       "      <td>0</td>\n",
       "      <td>1</td>\n",
       "      <td>0</td>\n",
       "      <td>15157</td>\n",
       "      <td>7.0</td>\n",
       "      <td>17954</td>\n",
       "      <td>201</td>\n",
       "      <td>55</td>\n",
       "      <td>-1321</td>\n",
       "      <td>-7</td>\n",
       "      <td>20.1</td>\n",
       "      <td>1515.7</td>\n",
       "    </tr>\n",
       "    <tr>\n",
       "      <th>4</th>\n",
       "      <td>0</td>\n",
       "      <td>75</td>\n",
       "      <td>4</td>\n",
       "      <td>0</td>\n",
       "      <td>6</td>\n",
       "      <td>6</td>\n",
       "      <td>6</td>\n",
       "      <td>0</td>\n",
       "      <td>0</td>\n",
       "      <td>0</td>\n",
       "      <td>0</td>\n",
       "      <td>16400</td>\n",
       "      <td>7.0</td>\n",
       "      <td>18543</td>\n",
       "      <td>210</td>\n",
       "      <td>57</td>\n",
       "      <td>-1004</td>\n",
       "      <td>230</td>\n",
       "      <td>21.0</td>\n",
       "      <td>1640.0</td>\n",
       "    </tr>\n",
       "  </tbody>\n",
       "</table>\n",
       "</div>"
      ],
      "text/plain": [
       "   blueWins  blueWardsPlaced  blueWardsDestroyed  blueFirstBlood  blueKills  \\\n",
       "0         0               28                   2               1          9   \n",
       "1         0               12                   1               0          5   \n",
       "2         0               15                   0               0          7   \n",
       "3         0               43                   1               0          4   \n",
       "4         0               75                   4               0          6   \n",
       "\n",
       "   blueDeaths  blueAssists  blueEliteMonsters  blueDragons  blueHeralds  \\\n",
       "0           6           11                  0            0            0   \n",
       "1           5            5                  0            0            0   \n",
       "2          11            4                  1            1            0   \n",
       "3           5            5                  1            0            1   \n",
       "4           6            6                  0            0            0   \n",
       "\n",
       "   blueTowersDestroyed  blueTotalGold  blueAvgLevel  blueTotalExperience  \\\n",
       "0                    0          17210           6.6                17039   \n",
       "1                    0          14712           6.6                16265   \n",
       "2                    0          16113           6.4                16221   \n",
       "3                    0          15157           7.0                17954   \n",
       "4                    0          16400           7.0                18543   \n",
       "\n",
       "   blueTotalMinionsKilled  blueTotalJungleMinionsKilled  blueGoldDiff  \\\n",
       "0                     195                            36           643   \n",
       "1                     174                            43         -2908   \n",
       "2                     186                            46         -1172   \n",
       "3                     201                            55         -1321   \n",
       "4                     210                            57         -1004   \n",
       "\n",
       "   blueExperienceDiff  blueCSPerMin  blueGoldPerMin  \n",
       "0                  -8          19.5          1721.0  \n",
       "1               -1173          17.4          1471.2  \n",
       "2               -1033          18.6          1611.3  \n",
       "3                  -7          20.1          1515.7  \n",
       "4                 230          21.0          1640.0  "
      ]
     },
     "execution_count": 104,
     "metadata": {},
     "output_type": "execute_result"
    }
   ],
   "source": [
    "#data of 10 min early game\n",
    "data_early = pd.read_csv(\"high_diamond_ranked_10min.csv\", usecols=range(1,21))\n",
    "data_early.head()"
   ]
  },
  {
   "cell_type": "code",
   "execution_count": 107,
   "metadata": {},
   "outputs": [
    {
     "data": {
      "text/plain": [
       "(9879, 20)"
      ]
     },
     "execution_count": 107,
     "metadata": {},
     "output_type": "execute_result"
    }
   ],
   "source": [
    "data_early.shape"
   ]
  },
  {
   "cell_type": "code",
   "execution_count": 105,
   "metadata": {
    "ExecuteTime": {
     "end_time": "2020-11-20T17:55:59.788861Z",
     "start_time": "2020-11-20T17:55:59.772761Z"
    }
   },
   "outputs": [],
   "source": [
    "x_train, x_test, y_train, y_test =  train_test_split(data_early.iloc[:,1:21], data_early.iloc[:,0], test_size = 0.3)"
   ]
  },
  {
   "cell_type": "code",
   "execution_count": 106,
   "metadata": {
    "ExecuteTime": {
     "end_time": "2020-11-20T17:56:00.426860Z",
     "start_time": "2020-11-20T17:56:00.421449Z"
    }
   },
   "outputs": [
    {
     "name": "stdout",
     "output_type": "stream",
     "text": [
      "0.7321187584345479\n"
     ]
    }
   ],
   "source": [
    "LR4 = LogisticRegression()\n",
    "LR4.fit(x_train, y_train)\n",
    "prediction4 = LR4.predict(x_test)\n",
    "accuracy4 = LR4.score(x_test, y_test)\n",
    "print(accuracy4)"
   ]
  },
  {
   "cell_type": "code",
   "execution_count": 109,
   "metadata": {
    "ExecuteTime": {
     "end_time": "2020-11-20T17:56:00.930861Z",
     "start_time": "2020-11-20T17:56:00.820086Z"
    }
   },
   "outputs": [
    {
     "name": "stdout",
     "output_type": "stream",
     "text": [
      "0.5378644711882199\n"
     ]
    }
   ],
   "source": [
    "prob = LR4.predict_proba(x_test) #probabilities of lable 1 for each prediction\n",
    "loss4 = log_loss(y_test, prob) #loss of the prediction\n",
    "print(loss4)"
   ]
  },
  {
   "cell_type": "code",
   "execution_count": 108,
   "metadata": {
    "ExecuteTime": {
     "end_time": "2020-11-20T17:56:01.403545Z",
     "start_time": "2020-11-20T17:56:01.394672Z"
    }
   },
   "outputs": [
    {
     "data": {
      "text/plain": [
       "Text(0, 0.5, 'Probability of negative')"
      ]
     },
     "execution_count": 108,
     "metadata": {},
     "output_type": "execute_result"
    },
    {
     "data": {
      "image/png": "[encoded data removed]",
      "text/plain": [
       "<Figure size 432x288 with 1 Axes>"
      ]
     },
     "metadata": {
      "needs_background": "light"
     },
     "output_type": "display_data"
    }
   ],
   "source": [
    "plt.scatter(prob[0:300,0], prob[0:300,1], marker='.')\n",
    "plt.xlabel('Probability of positive', fontsize = 15)\n",
    "plt.ylabel('Probability of negative', fontsize = 15)"
   ]
  },
  {
   "cell_type": "code",
   "execution_count": 117,
   "metadata": {},
   "outputs": [
    {
     "name": "stdout",
     "output_type": "stream",
     "text": [
      "Certainty Rate: 0.1282051282051282\n"
     ]
    }
   ],
   "source": [
    "count = 0\n",
    "for i in range(len(prob)):\n",
    "    if (prob[i,0] > 0.9) or (prob [i,1] > 0.9):\n",
    "        count+=1\n",
    "certainty = count/len(prob)\n",
    "print('Certainty Rate:', certainty)"
   ]
  },
  {
   "cell_type": "markdown",
   "metadata": {},
   "source": [
    "## Early map-control"
   ]
  },
  {
   "cell_type": "code",
   "execution_count": 125,
   "metadata": {},
   "outputs": [
    {
     "data": {
      "text/html": [
       "<div>\n",
       "<style scoped>\n",
       "    .dataframe tbody tr th:only-of-type {\n",
       "        vertical-align: middle;\n",
       "    }\n",
       "\n",
       "    .dataframe tbody tr th {\n",
       "        vertical-align: top;\n",
       "    }\n",
       "\n",
       "    .dataframe thead th {\n",
       "        text-align: right;\n",
       "    }\n",
       "</style>\n",
       "<table border=\"1\" class=\"dataframe\">\n",
       "  <thead>\n",
       "    <tr style=\"text-align: right;\">\n",
       "      <th></th>\n",
       "      <th>blueWins</th>\n",
       "      <th>blueFirstBlood</th>\n",
       "      <th>blueKills</th>\n",
       "      <th>blueDeaths</th>\n",
       "      <th>blueAssists</th>\n",
       "    </tr>\n",
       "  </thead>\n",
       "  <tbody>\n",
       "    <tr>\n",
       "      <th>0</th>\n",
       "      <td>0</td>\n",
       "      <td>1</td>\n",
       "      <td>9</td>\n",
       "      <td>6</td>\n",
       "      <td>11</td>\n",
       "    </tr>\n",
       "    <tr>\n",
       "      <th>1</th>\n",
       "      <td>0</td>\n",
       "      <td>0</td>\n",
       "      <td>5</td>\n",
       "      <td>5</td>\n",
       "      <td>5</td>\n",
       "    </tr>\n",
       "    <tr>\n",
       "      <th>2</th>\n",
       "      <td>0</td>\n",
       "      <td>0</td>\n",
       "      <td>7</td>\n",
       "      <td>11</td>\n",
       "      <td>4</td>\n",
       "    </tr>\n",
       "    <tr>\n",
       "      <th>3</th>\n",
       "      <td>0</td>\n",
       "      <td>0</td>\n",
       "      <td>4</td>\n",
       "      <td>5</td>\n",
       "      <td>5</td>\n",
       "    </tr>\n",
       "    <tr>\n",
       "      <th>4</th>\n",
       "      <td>0</td>\n",
       "      <td>0</td>\n",
       "      <td>6</td>\n",
       "      <td>6</td>\n",
       "      <td>6</td>\n",
       "    </tr>\n",
       "  </tbody>\n",
       "</table>\n",
       "</div>"
      ],
      "text/plain": [
       "   blueWins  blueFirstBlood  blueKills  blueDeaths  blueAssists\n",
       "0         0               1          9           6           11\n",
       "1         0               0          5           5            5\n",
       "2         0               0          7          11            4\n",
       "3         0               0          4           5            5\n",
       "4         0               0          6           6            6"
      ]
     },
     "execution_count": 125,
     "metadata": {},
     "output_type": "execute_result"
    }
   ],
   "source": [
    "#data of 10 min early game\n",
    "map_control = pd.read_csv(\"high_diamond_ranked_10min.csv\", usecols=[1,2,3,8,9,10,11,15,16])\n",
    "team_fight = pd.read_csv(\"high_diamond_ranked_10min.csv\", usecols=[1,4,5,6,7])\n",
    "team_fight.head()"
   ]
  },
  {
   "cell_type": "code",
   "execution_count": 142,
   "metadata": {},
   "outputs": [
    {
     "name": "stdout",
     "output_type": "stream",
     "text": [
      "0.631578947368421\n"
     ]
    }
   ],
   "source": [
    "x_train, x_test, y_train, y_test =  train_test_split(map_control.iloc[:,1:10], map_control.iloc[:,0], test_size = 0.3)\n",
    "LR4 = LogisticRegression(max_iter=400)\n",
    "LR4.fit(x_train, y_train)\n",
    "prediction4 = LR4.predict(x_test)\n",
    "accuracy4 = LR4.score(x_test, y_test)\n",
    "print(accuracy4)"
   ]
  },
  {
   "cell_type": "code",
   "execution_count": 143,
   "metadata": {},
   "outputs": [
    {
     "name": "stdout",
     "output_type": "stream",
     "text": [
      "0.6376298649474768\n"
     ]
    }
   ],
   "source": [
    "prob = LR4.predict_proba(x_test) #probabilities of lable 1 for each prediction\n",
    "loss4 = log_loss(y_test, prob) #loss of the prediction\n",
    "print(loss4)"
   ]
  },
  {
   "cell_type": "code",
   "execution_count": 144,
   "metadata": {},
   "outputs": [
    {
     "name": "stdout",
     "output_type": "stream",
     "text": [
      "10-folds Cross Validation Score: 0.6328335828948579\n"
     ]
    }
   ],
   "source": [
    "#10-folds cross validation\n",
    "scores = cross_val_score(LR4, x_train, y_train, cv=10)\n",
    "scores = pd.Series(scores)\n",
    "cross_score1 = scores.mean()\n",
    "print(\"10-folds Cross Validation Score:\", cross_score1)"
   ]
  },
  {
   "cell_type": "markdown",
   "metadata": {},
   "source": [
    "## Early team fight"
   ]
  },
  {
   "cell_type": "code",
   "execution_count": 145,
   "metadata": {},
   "outputs": [
    {
     "name": "stdout",
     "output_type": "stream",
     "text": [
      "0.7155870445344129\n"
     ]
    }
   ],
   "source": [
    "x_train, x_test, y_train, y_test =  train_test_split(team_fight.iloc[:,1:5], team_fight.iloc[:,0], test_size = 0.3)\n",
    "LR5 = LogisticRegression(max_iter=200)\n",
    "LR5.fit(x_train, y_train)\n",
    "prediction5 = LR5.predict(x_test)\n",
    "accuracy5 = LR5.score(x_test, y_test)\n",
    "print(accuracy5)"
   ]
  },
  {
   "cell_type": "code",
   "execution_count": 146,
   "metadata": {},
   "outputs": [
    {
     "name": "stdout",
     "output_type": "stream",
     "text": [
      "0.5571684054951609\n"
     ]
    }
   ],
   "source": [
    "prob = LR5.predict_proba(x_test) #probabilities of lable 1 for each prediction\n",
    "loss5 = log_loss(y_test, prob) #loss of the prediction\n",
    "print(loss5)"
   ]
  },
  {
   "cell_type": "code",
   "execution_count": 148,
   "metadata": {},
   "outputs": [
    {
     "name": "stdout",
     "output_type": "stream",
     "text": [
      "10-folds Cross Validation Score: 0.697758128874129\n"
     ]
    }
   ],
   "source": [
    "#10-folds cross validation\n",
    "scores = cross_val_score(LR5, x_train, y_train, cv=10)\n",
    "scores = pd.Series(scores)\n",
    "cross_score2 = scores.mean()\n",
    "print(\"10-folds Cross Validation Score:\", cross_score2)"
   ]
  },
  {
   "cell_type": "markdown",
   "metadata": {},
   "source": [
    "## comparing"
   ]
  },
  {
   "cell_type": "code",
   "execution_count": 137,
   "metadata": {},
   "outputs": [
    {
     "data": {
      "text/plain": [
       "Text(0, 0.5, 'accuracy')"
      ]
     },
     "execution_count": 137,
     "metadata": {},
     "output_type": "execute_result"
    },
    {
     "data": {
      "image/png": "[encoded data removed]",
      "text/plain": [
       "<Figure size 432x288 with 1 Axes>"
      ]
     },
     "metadata": {
      "needs_background": "light"
     },
     "output_type": "display_data"
    }
   ],
   "source": [
    "x = [1,2]\n",
    "plt.bar(x, height=[accuracy4, accuracy5])\n",
    "plt.xticks(x, ['map control','team fight'], fontsize = 15)\n",
    "plt.ylabel('accuracy', fontsize = 15)"
   ]
  },
  {
   "cell_type": "code",
   "execution_count": 138,
   "metadata": {},
   "outputs": [
    {
     "data": {
      "text/plain": [
       "Text(0, 0.5, 'loss')"
      ]
     },
     "execution_count": 138,
     "metadata": {},
     "output_type": "execute_result"
    },
    {
     "data": {
      "image/png": "[encoded data removed]",
      "text/plain": [
       "<Figure size 432x288 with 1 Axes>"
      ]
     },
     "metadata": {
      "needs_background": "light"
     },
     "output_type": "display_data"
    }
   ],
   "source": [
    "x = [1,2]\n",
    "plt.bar(x, height=[loss4, loss5])\n",
    "plt.xticks(x, ['map control','team fight'], fontsize = 15)\n",
    "plt.ylabel('loss', fontsize = 15)"
   ]
  },
  {
   "cell_type": "code",
   "execution_count": null,
   "metadata": {},
   "outputs": [],
   "source": []
  }
 ],
 "metadata": {
  "kernelspec": {
   "display_name": "Python 3",
   "language": "python",
   "name": "python3"
  },
  "language_info": {
   "codemirror_mode": {
    "name": "ipython",
    "version": 3
   },
   "file_extension": ".py",
   "mimetype": "text/x-python",
   "name": "python",
   "nbconvert_exporter": "python",
   "pygments_lexer": "ipython3",
   "version": "3.8.3"
  },
  "toc": {
   "base_numbering": 1,
   "nav_menu": {},
   "number_sections": true,
   "sideBar": true,
   "skip_h1_title": false,
   "title_cell": "Table of Contents",
   "title_sidebar": "Contents",
   "toc_cell": false,
   "toc_position": {
    "height": "calc(100% - 180px)",
    "left": "10px",
    "top": "150px",
    "width": "243px"
   },
   "toc_section_display": true,
   "toc_window_display": true
  }
 },
 "nbformat": 4,
 "nbformat_minor": 4
}
